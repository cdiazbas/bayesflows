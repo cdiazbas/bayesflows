{
  "nbformat": 4,
  "nbformat_minor": 0,
  "metadata": {
    "colab": {
      "name": "nflows_example.ipynb",
      "provenance": [],
      "collapsed_sections": []
    },
    "kernelspec": {
      "name": "python3",
      "display_name": "Python 3"
    }
  },
  "cells": [
    {
      "cell_type": "markdown",
      "metadata": {
        "id": "8TGECD_R4fGj"
      },
      "source": [
        "# Normalizing flows - Linear regression (PyTorch)"
      ]
    },
    {
      "cell_type": "code",
      "metadata": {
        "id": "1DA4FdcE4Zlz",
        "colab": {
          "base_uri": "https://localhost:8080/"
        },
        "outputId": "72b571e3-1572-40e4-b28e-eeaee2fdb696"
      },
      "source": [
        "__author__ = 'carlos.diaz@astro.su.se'\n",
        "!which python"
      ],
      "execution_count": 1,
      "outputs": [
        {
          "output_type": "stream",
          "name": "stdout",
          "text": [
            "/usr/local/bin/python\n"
          ]
        }
      ]
    },
    {
      "cell_type": "code",
      "metadata": {
        "id": "rbCnuiqryIuN",
        "colab": {
          "base_uri": "https://localhost:8080/"
        },
        "outputId": "252bbaf8-1f95-4e12-b4c7-9f98a0d36f94"
      },
      "source": [
        "# We need to install the libraries to use the flows (nflows), \n",
        "# do some plots (corner) and to run an MCMC (emcee)\n",
        "try:\n",
        "    import emcee\n",
        "    import corner\n",
        "    import nflows\n",
        "except:\n",
        "    !pip install emcee\n",
        "    !pip install corner\n",
        "    !pip install nflows\n",
        "    import emcee\n",
        "    import corner\n",
        "    import nflows"
      ],
      "execution_count": 2,
      "outputs": [
        {
          "output_type": "stream",
          "name": "stdout",
          "text": [
            "Collecting emcee\n",
            "  Downloading emcee-3.1.1-py2.py3-none-any.whl (45 kB)\n",
            "\u001b[?25l\r\u001b[K     |███████▏                        | 10 kB 20.8 MB/s eta 0:00:01\r\u001b[K     |██████████████▎                 | 20 kB 23.9 MB/s eta 0:00:01\r\u001b[K     |█████████████████████▍          | 30 kB 24.0 MB/s eta 0:00:01\r\u001b[K     |████████████████████████████▌   | 40 kB 18.8 MB/s eta 0:00:01\r\u001b[K     |████████████████████████████████| 45 kB 2.0 MB/s \n",
            "\u001b[?25hRequirement already satisfied: numpy in /usr/local/lib/python3.7/dist-packages (from emcee) (1.19.5)\n",
            "Installing collected packages: emcee\n",
            "Successfully installed emcee-3.1.1\n",
            "Collecting corner\n",
            "  Downloading corner-2.2.1-py3-none-any.whl (15 kB)\n",
            "Requirement already satisfied: matplotlib>=2.1 in /usr/local/lib/python3.7/dist-packages (from corner) (3.2.2)\n",
            "Requirement already satisfied: cycler>=0.10 in /usr/local/lib/python3.7/dist-packages (from matplotlib>=2.1->corner) (0.10.0)\n",
            "Requirement already satisfied: pyparsing!=2.0.4,!=2.1.2,!=2.1.6,>=2.0.1 in /usr/local/lib/python3.7/dist-packages (from matplotlib>=2.1->corner) (2.4.7)\n",
            "Requirement already satisfied: python-dateutil>=2.1 in /usr/local/lib/python3.7/dist-packages (from matplotlib>=2.1->corner) (2.8.2)\n",
            "Requirement already satisfied: numpy>=1.11 in /usr/local/lib/python3.7/dist-packages (from matplotlib>=2.1->corner) (1.19.5)\n",
            "Requirement already satisfied: kiwisolver>=1.0.1 in /usr/local/lib/python3.7/dist-packages (from matplotlib>=2.1->corner) (1.3.2)\n",
            "Requirement already satisfied: six in /usr/local/lib/python3.7/dist-packages (from cycler>=0.10->matplotlib>=2.1->corner) (1.15.0)\n",
            "Installing collected packages: corner\n",
            "Successfully installed corner-2.2.1\n",
            "Collecting nflows\n",
            "  Downloading nflows-0.14.tar.gz (45 kB)\n",
            "\u001b[K     |████████████████████████████████| 45 kB 2.1 MB/s \n",
            "\u001b[?25hRequirement already satisfied: matplotlib in /usr/local/lib/python3.7/dist-packages (from nflows) (3.2.2)\n",
            "Requirement already satisfied: numpy in /usr/local/lib/python3.7/dist-packages (from nflows) (1.19.5)\n",
            "Requirement already satisfied: tensorboard in /usr/local/lib/python3.7/dist-packages (from nflows) (2.6.0)\n",
            "Requirement already satisfied: torch in /usr/local/lib/python3.7/dist-packages (from nflows) (1.9.0+cu111)\n",
            "Requirement already satisfied: tqdm in /usr/local/lib/python3.7/dist-packages (from nflows) (4.62.3)\n",
            "Requirement already satisfied: pyparsing!=2.0.4,!=2.1.2,!=2.1.6,>=2.0.1 in /usr/local/lib/python3.7/dist-packages (from matplotlib->nflows) (2.4.7)\n",
            "Requirement already satisfied: kiwisolver>=1.0.1 in /usr/local/lib/python3.7/dist-packages (from matplotlib->nflows) (1.3.2)\n",
            "Requirement already satisfied: python-dateutil>=2.1 in /usr/local/lib/python3.7/dist-packages (from matplotlib->nflows) (2.8.2)\n",
            "Requirement already satisfied: cycler>=0.10 in /usr/local/lib/python3.7/dist-packages (from matplotlib->nflows) (0.10.0)\n",
            "Requirement already satisfied: six in /usr/local/lib/python3.7/dist-packages (from cycler>=0.10->matplotlib->nflows) (1.15.0)\n",
            "Requirement already satisfied: wheel>=0.26 in /usr/local/lib/python3.7/dist-packages (from tensorboard->nflows) (0.37.0)\n",
            "Requirement already satisfied: google-auth-oauthlib<0.5,>=0.4.1 in /usr/local/lib/python3.7/dist-packages (from tensorboard->nflows) (0.4.6)\n",
            "Requirement already satisfied: absl-py>=0.4 in /usr/local/lib/python3.7/dist-packages (from tensorboard->nflows) (0.12.0)\n",
            "Requirement already satisfied: protobuf>=3.6.0 in /usr/local/lib/python3.7/dist-packages (from tensorboard->nflows) (3.17.3)\n",
            "Requirement already satisfied: tensorboard-data-server<0.7.0,>=0.6.0 in /usr/local/lib/python3.7/dist-packages (from tensorboard->nflows) (0.6.1)\n",
            "Requirement already satisfied: setuptools>=41.0.0 in /usr/local/lib/python3.7/dist-packages (from tensorboard->nflows) (57.4.0)\n",
            "Requirement already satisfied: tensorboard-plugin-wit>=1.6.0 in /usr/local/lib/python3.7/dist-packages (from tensorboard->nflows) (1.8.0)\n",
            "Requirement already satisfied: requests<3,>=2.21.0 in /usr/local/lib/python3.7/dist-packages (from tensorboard->nflows) (2.23.0)\n",
            "Requirement already satisfied: google-auth<2,>=1.6.3 in /usr/local/lib/python3.7/dist-packages (from tensorboard->nflows) (1.35.0)\n",
            "Requirement already satisfied: werkzeug>=0.11.15 in /usr/local/lib/python3.7/dist-packages (from tensorboard->nflows) (1.0.1)\n",
            "Requirement already satisfied: markdown>=2.6.8 in /usr/local/lib/python3.7/dist-packages (from tensorboard->nflows) (3.3.4)\n",
            "Requirement already satisfied: grpcio>=1.24.3 in /usr/local/lib/python3.7/dist-packages (from tensorboard->nflows) (1.41.0)\n",
            "Requirement already satisfied: pyasn1-modules>=0.2.1 in /usr/local/lib/python3.7/dist-packages (from google-auth<2,>=1.6.3->tensorboard->nflows) (0.2.8)\n",
            "Requirement already satisfied: cachetools<5.0,>=2.0.0 in /usr/local/lib/python3.7/dist-packages (from google-auth<2,>=1.6.3->tensorboard->nflows) (4.2.4)\n",
            "Requirement already satisfied: rsa<5,>=3.1.4 in /usr/local/lib/python3.7/dist-packages (from google-auth<2,>=1.6.3->tensorboard->nflows) (4.7.2)\n",
            "Requirement already satisfied: requests-oauthlib>=0.7.0 in /usr/local/lib/python3.7/dist-packages (from google-auth-oauthlib<0.5,>=0.4.1->tensorboard->nflows) (1.3.0)\n",
            "Requirement already satisfied: importlib-metadata in /usr/local/lib/python3.7/dist-packages (from markdown>=2.6.8->tensorboard->nflows) (4.8.1)\n",
            "Requirement already satisfied: pyasn1<0.5.0,>=0.4.6 in /usr/local/lib/python3.7/dist-packages (from pyasn1-modules>=0.2.1->google-auth<2,>=1.6.3->tensorboard->nflows) (0.4.8)\n",
            "Requirement already satisfied: urllib3!=1.25.0,!=1.25.1,<1.26,>=1.21.1 in /usr/local/lib/python3.7/dist-packages (from requests<3,>=2.21.0->tensorboard->nflows) (1.24.3)\n",
            "Requirement already satisfied: certifi>=2017.4.17 in /usr/local/lib/python3.7/dist-packages (from requests<3,>=2.21.0->tensorboard->nflows) (2021.5.30)\n",
            "Requirement already satisfied: idna<3,>=2.5 in /usr/local/lib/python3.7/dist-packages (from requests<3,>=2.21.0->tensorboard->nflows) (2.10)\n",
            "Requirement already satisfied: chardet<4,>=3.0.2 in /usr/local/lib/python3.7/dist-packages (from requests<3,>=2.21.0->tensorboard->nflows) (3.0.4)\n",
            "Requirement already satisfied: oauthlib>=3.0.0 in /usr/local/lib/python3.7/dist-packages (from requests-oauthlib>=0.7.0->google-auth-oauthlib<0.5,>=0.4.1->tensorboard->nflows) (3.1.1)\n",
            "Requirement already satisfied: zipp>=0.5 in /usr/local/lib/python3.7/dist-packages (from importlib-metadata->markdown>=2.6.8->tensorboard->nflows) (3.6.0)\n",
            "Requirement already satisfied: typing-extensions>=3.6.4 in /usr/local/lib/python3.7/dist-packages (from importlib-metadata->markdown>=2.6.8->tensorboard->nflows) (3.7.4.3)\n",
            "Building wheels for collected packages: nflows\n",
            "  Building wheel for nflows (setup.py) ... \u001b[?25l\u001b[?25hdone\n",
            "  Created wheel for nflows: filename=nflows-0.14-py3-none-any.whl size=53671 sha256=b29fa3acd72b78de37c0408034793be66213acb3a21ce76f415f40ffcd0ee4c1\n",
            "  Stored in directory: /root/.cache/pip/wheels/c0/b6/52/0092eedabce8f7faa35b92522393fbdc1ec5ede99b0ec820d5\n",
            "Successfully built nflows\n",
            "Installing collected packages: nflows\n",
            "Successfully installed nflows-0.14\n"
          ]
        }
      ]
    },
    {
      "cell_type": "code",
      "metadata": {
        "id": "jjpTnoJqdMlw",
        "colab": {
          "base_uri": "https://localhost:8080/"
        },
        "outputId": "56b3cb42-6a16-4636-c824-6343f80949c3"
      },
      "source": [
        "# We also import few more libraries to plots,\n",
        "# time measurements, and the creation of the normalizing flow\n",
        "\n",
        "import numpy as np\n",
        "import matplotlib.pyplot as plt\n",
        "\n",
        "import torch\n",
        "import time\n",
        "import torch.utils.data\n",
        "from torch.nn import functional as F\n",
        "from nflows.flows.base import Flow\n",
        "from nflows.transforms.base import CompositeTransform\n",
        "from nflows import distributions, flows, transforms, utils\n",
        "from nflows.nn import nets\n",
        "\n",
        "# By default it can run on CPU, you do not need a GPU.\n",
        "device = torch.device(\"cuda\" if torch.cuda.is_available() else \"cpu\")\n",
        "print('Device:',device)\n",
        "print('Pytorch:',torch.__version__)\n",
        "if torch.cuda.is_available() is True:\n",
        "    print(torch.cuda.get_device_name(0))\n",
        "\n",
        "# Fixing seeds for reproducibility\n",
        "torch.manual_seed(1)\n",
        "np.random.seed(1)"
      ],
      "execution_count": 3,
      "outputs": [
        {
          "output_type": "stream",
          "name": "stdout",
          "text": [
            "Device: cpu\n",
            "Pytorch: 1.9.0+cu111\n"
          ]
        }
      ]
    },
    {
      "cell_type": "code",
      "metadata": {
        "id": "9QNPv4YEjemE"
      },
      "source": [
        "# Dictionary to save important information\n",
        "class dotdict(dict): \n",
        "  __getattr__ = dict.get\n",
        "  __setattr__ = dict.__setitem__\n",
        "  __delattr__ = dict.__delitem__"
      ],
      "execution_count": 4,
      "outputs": []
    },
    {
      "cell_type": "code",
      "metadata": {
        "id": "n5HKE0t74oKI"
      },
      "source": [
        "# Configuration for the training process\n",
        "args = dotdict()\n",
        "args.learning_rate = 1e-4 \n",
        "args.num_epochs = 12\n",
        "args.log_interval = 2\n",
        "args.batch_size = 100"
      ],
      "execution_count": 5,
      "outputs": []
    },
    {
      "cell_type": "markdown",
      "metadata": {
        "id": "w-WVCfHXBV1m"
      },
      "source": [
        "## Generating the dataset"
      ]
    },
    {
      "cell_type": "code",
      "metadata": {
        "id": "R5AKwbWh4qNE",
        "colab": {
          "base_uri": "https://localhost:8080/"
        },
        "outputId": "1a2d79de-1381-4bf7-8aa5-65a0c791ae5f"
      },
      "source": [
        "# Uniform sampling of the slope and constant parameters of a linear model\n",
        "args.sampling_database = 300\n",
        "slope = np.linspace(-10,10,args.sampling_database)\n",
        "intercept = np.linspace(-50,50,args.sampling_database)\n",
        "xarray = np.arange(10)\n",
        "noise = 0.5\n",
        "\n",
        "# We define the linear model\n",
        "def mymodel(xarray,slope,intercept,noise):\n",
        "    output = slope*xarray + intercept +np.random.normal(0,noise,size=xarray.shape[0])\n",
        "    return output.astype(dtype=np.float32)\n",
        "\n",
        "# We finally create the database of pairs of samples\n",
        "lines = np.zeros((slope.shape[0]*intercept.shape[0],xarray.shape[0]),dtype=np.float32)\n",
        "values = np.zeros((slope.shape[0]*intercept.shape[0],2),dtype=np.float32)\n",
        "cont = 0\n",
        "for i_slope in slope:\n",
        "    for i_intercept in intercept:\n",
        "        lines[cont,:] = mymodel(xarray,i_slope,i_intercept,noise)\n",
        "        values[cont,0] = i_slope;  values[cont,1] = i_intercept; \n",
        "        cont += 1\n",
        "\n",
        "print('Datasize:',lines.shape)"
      ],
      "execution_count": 6,
      "outputs": [
        {
          "output_type": "stream",
          "name": "stdout",
          "text": [
            "Datasize: (90000, 10)\n"
          ]
        }
      ]
    },
    {
      "cell_type": "code",
      "metadata": {
        "id": "hE1dVSDcnNSM",
        "colab": {
          "base_uri": "https://localhost:8080/",
          "height": 296
        },
        "outputId": "b43287be-c85f-4ac1-b3f4-8c21c3790b3b"
      },
      "source": [
        "# We can check the dataset by plotting few random exampless:\n",
        "plt.figure()\n",
        "plt.plot(xarray,lines[np.random.randint(0,lines.shape[0]),:],'.--')\n",
        "plt.plot(xarray,lines[np.random.randint(0,lines.shape[0]),:],'.--')\n",
        "plt.plot(xarray,lines[np.random.randint(0,lines.shape[0]),:],'.--')\n",
        "plt.xlabel('x axis'); plt.ylabel('y axis')"
      ],
      "execution_count": 7,
      "outputs": [
        {
          "output_type": "execute_result",
          "data": {
            "text/plain": [
              "Text(0, 0.5, 'y axis')"
            ]
          },
          "metadata": {},
          "execution_count": 7
        },
        {
          "output_type": "display_data",
          "data": {
            "image/png": "[encoded data removed]",
            "text/plain": [
              "<Figure size 432x288 with 1 Axes>"
            ]
          },
          "metadata": {
            "needs_background": "light"
          }
        }
      ]
    },
    {
      "cell_type": "code",
      "metadata": {
        "id": "oNHbcw67OJ9j"
      },
      "source": [
        "# We now include the samples into a PyTorch class Dataset\n",
        "class Dataset(torch.utils.data.Dataset):\n",
        "  'Characterizes a dataset for PyTorch'\n",
        "  def __init__(self, lines, values):\n",
        "        'Initialization'\n",
        "        self.lines = lines\n",
        "        self.values = values\n",
        "\n",
        "  def __len__(self):\n",
        "        'Denotes the total number of samples'\n",
        "        return self.values.shape[0]\n",
        "\n",
        "  def __getitem__(self, index):\n",
        "        'Generates one sample of data'\n",
        "        x = values[index,:]\n",
        "        y = lines[index,:]\n",
        "        return x, y\n",
        "\n",
        "# Data container:\n",
        "training_set = Dataset(lines, values)\n",
        "train_loader = torch.utils.data.DataLoader(training_set,batch_size=args.batch_size,shuffle=True)"
      ],
      "execution_count": 8,
      "outputs": []
    },
    {
      "cell_type": "code",
      "metadata": {
        "colab": {
          "base_uri": "https://localhost:8080/"
        },
        "id": "gxQng8gOIeoQ",
        "outputId": "afe87944-9df0-4c9e-9d79-b76c2dbd5432"
      },
      "source": [
        "# We normalize the data during training to achieve a faster convergence:\n",
        "x_std = train_loader.dataset.lines.std((0,1))\n",
        "y_std = train_loader.dataset.values.std((0))\n",
        "print('x_std, y_std: ',x_std,y_std)"
      ],
      "execution_count": 9,
      "outputs": [
        {
          "output_type": "stream",
          "name": "stdout",
          "text": [
            "x_std, y_std:  42.3724 [ 5.793013 28.963675]\n"
          ]
        }
      ]
    },
    {
      "cell_type": "markdown",
      "metadata": {
        "id": "zo0haPaMBZVY"
      },
      "source": [
        "## Definition of the normalizing flow"
      ]
    },
    {
      "cell_type": "code",
      "metadata": {
        "id": "fi6w3XCsiBvM"
      },
      "source": [
        "# +++++++++++++++++++++++++++++++++++++++++++++++++++++++++++++++++++++++++++++++++++++\n",
        "# Flow layers:\n",
        "\n",
        "# Here we use a Piecewise Rational Quadratic spline in a coupling transform (like in the paper)\n",
        "# but simpler options are also available.\n",
        "def PiecewiseRationalQuadraticCouplingTransform(iflow, input_size, hidden_size, context_size, num_blocks=1, activation=F.elu, num_bins=8):\n",
        "    return transforms.PiecewiseRationalQuadraticCouplingTransform(\n",
        "        mask=utils.create_alternating_binary_mask(input_size, even=(iflow % 2 == 0)),\n",
        "        transform_net_create_fn=(lambda in_features, out_features: nets.ResidualNet(in_features=in_features, \n",
        "        out_features=out_features, hidden_features=hidden_size,context_features=context_size, num_blocks=num_blocks,activation=activation)),\n",
        "        num_bins=num_bins, tails='linear', tail_bound=5, apply_unconditional_transform=False)\n",
        "\n",
        "# Between each Coupling layer we have a layer that suffle the order of the variables\n",
        "def create_linear_transform(param_dim):\n",
        "    return transforms.CompositeTransform([\n",
        "        transforms.RandomPermutation(features=param_dim),\n",
        "        transforms.LULinear(param_dim, identity_init=True)])\n",
        "\n",
        "# +++++++++++++++++++++++++++++++++++++++++++++++++++++++++++++++++++++++++++++++++++++\n",
        "\n",
        "num_layers = 5 # number of \"sub-flows\"\n",
        "mhidden_features = 32 # neurons in each layer of the ResNet network that infers the spline parameters\n",
        "base_dist = nflows.distributions.StandardNormal((2,)) # Multivariate Gaussian distribution\n",
        "\n",
        "transformsi = []\n",
        "for _ in range(num_layers):\n",
        "    transformsi.append(create_linear_transform(param_dim=2))\n",
        "    transformsi.append(PiecewiseRationalQuadraticCouplingTransform(_, 2, mhidden_features, context_size=10))\n",
        "transformsi.append(create_linear_transform(param_dim=2))\n",
        "transformflow = CompositeTransform(transformsi)\n",
        "\n",
        "# The Flow class creates the flow model by joining the base distribution and the previously defined layers.\n",
        "model = Flow(transformflow, base_dist)"
      ],
      "execution_count": 10,
      "outputs": []
    },
    {
      "cell_type": "code",
      "metadata": {
        "id": "8LVu-4cVigPS",
        "colab": {
          "base_uri": "https://localhost:8080/"
        },
        "outputId": "cb9b3fc3-65cf-4c03-e0d3-049f4e45cc5e"
      },
      "source": [
        "# Size and network parameters\n",
        "args.y_size = 2 # Number of parameters\n",
        "args.x_size = xarray.shape[0] # Input size\n",
        "pytorch_total_params_grad = sum(p.numel() for p in model.parameters() if p.requires_grad)\n",
        "print('Total params to optimize:', pytorch_total_params_grad)"
      ],
      "execution_count": 11,
      "outputs": [
        {
          "output_type": "stream",
          "name": "stdout",
          "text": [
            "Total params to optimize: 18071\n"
          ]
        }
      ]
    },
    {
      "cell_type": "code",
      "metadata": {
        "colab": {
          "base_uri": "https://localhost:8080/",
          "height": 297
        },
        "id": "aQK2ranjGWeQ",
        "outputId": "0eaac10e-5ac7-4d77-9aaa-6930fc6d44da"
      },
      "source": [
        "# Transformation before training:\n",
        "zz = model.transform_to_noise(inputs=torch.from_numpy(values)/y_std, context=torch.from_numpy(lines)/x_std).detach().numpy()\n",
        "\n",
        "# The latent space z is not Gaussian yet\n",
        "plt.figure()\n",
        "plt.subplot(121)\n",
        "plt.hist(zz[:,0],bins=100);\n",
        "plt.subplot(122)\n",
        "plt.hist(zz[:,1],bins=100);\n",
        "plt.tight_layout()"
      ],
      "execution_count": 12,
      "outputs": [
        {
          "output_type": "display_data",
          "data": {
            "image/png": "[encoded data removed]",
            "text/plain": [
              "<Figure size 432x288 with 2 Axes>"
            ]
          },
          "metadata": {
            "needs_background": "light"
          }
        }
      ]
    },
    {
      "cell_type": "markdown",
      "metadata": {
        "id": "kK8TGkX8BgFm"
      },
      "source": [
        "## Training of the normalizing flow"
      ]
    },
    {
      "cell_type": "code",
      "metadata": {
        "id": "qGN5vrb0wZg_",
        "colab": {
          "base_uri": "https://localhost:8080/"
        },
        "outputId": "ab04b91e-bd4e-4b7c-fb17-b68cc2c543a7"
      },
      "source": [
        "# Optimization of the normalizing flow\n",
        "\n",
        "# We have to choose the optimization method and parameters to optimize\n",
        "optimizer = torch.optim.Adam(model.parameters(), lr=args.learning_rate)\n",
        "\n",
        "# Every loop takes a batch of data, calculates the logprob and change the \n",
        "# parameters of the flow:\n",
        "train_loss_avg = []\n",
        "time0 = time.time()\n",
        "\n",
        "model.train()\n",
        "for epoch in range(1, args.num_epochs + 1):\n",
        "    train_loss = []\n",
        "    for batch_idx, (params, data) in enumerate(train_loader):\n",
        "        data = data.to(device)\n",
        "        params = params.to(device)\n",
        "        optimizer.zero_grad()\n",
        "\n",
        "        x = torch.tensor(data[:,:].numpy(), dtype=torch.float32)/x_std\n",
        "        y = torch.tensor(params[:,:].numpy(), dtype=torch.float32)/y_std\n",
        "\n",
        "        optimizer.zero_grad()\n",
        "        loss = -model.log_prob(inputs=y, context=x).mean()\n",
        "\n",
        "        loss.backward()\n",
        "        optimizer.step()\n",
        "        train_loss.append(loss.item())\n",
        "\n",
        "    train_loss_avg.append(np.mean(np.array(train_loss)))\n",
        "    if epoch % args.log_interval ==0: print('====> Epoch: {} Average loss: {:.4f}'.format(epoch, loss.item()))\n",
        "\n",
        "# We can print the total training time:\n",
        "print('Training: {0:2.2f} min'.format( (time.time()-time0)/60.) )"
      ],
      "execution_count": 13,
      "outputs": [
        {
          "output_type": "stream",
          "name": "stdout",
          "text": [
            "====> Epoch: 2 Average loss: -5.0879\n",
            "====> Epoch: 4 Average loss: -6.1069\n",
            "====> Epoch: 6 Average loss: -6.4681\n",
            "====> Epoch: 8 Average loss: -6.4998\n",
            "====> Epoch: 10 Average loss: -6.7458\n",
            "====> Epoch: 12 Average loss: -6.8756\n",
            "Training: 4.53 min\n"
          ]
        }
      ]
    },
    {
      "cell_type": "code",
      "metadata": {
        "id": "F4eR2FlTsVN3",
        "colab": {
          "base_uri": "https://localhost:8080/",
          "height": 296
        },
        "outputId": "8432c82b-edbb-4bcb-feb3-5f60157c1a18"
      },
      "source": [
        "# The evolution of logprob with epochs\n",
        "fig = plt.figure()\n",
        "plt.plot(train_loss_avg)\n",
        "plt.xlabel('Epochs')\n",
        "plt.ylabel('-log prob')"
      ],
      "execution_count": 14,
      "outputs": [
        {
          "output_type": "execute_result",
          "data": {
            "text/plain": [
              "Text(0, 0.5, '-log prob')"
            ]
          },
          "metadata": {},
          "execution_count": 14
        },
        {
          "output_type": "display_data",
          "data": {
            "image/png": "[encoded data removed]",
            "text/plain": [
              "<Figure size 432x288 with 1 Axes>"
            ]
          },
          "metadata": {
            "needs_background": "light"
          }
        }
      ]
    },
    {
      "cell_type": "code",
      "metadata": {
        "colab": {
          "base_uri": "https://localhost:8080/",
          "height": 331
        },
        "id": "GisCBVbJGbZz",
        "outputId": "199ea877-87aa-4b83-f32a-09f130c0d6ec"
      },
      "source": [
        "# Transformation after training\n",
        "zz = model.transform_to_noise(inputs=torch.from_numpy(values)/y_std, context=torch.from_numpy(lines)/x_std).detach().numpy()\n",
        "\n",
        "# Now the latent space has mean=0 and sigma=0\n",
        "print('Latent z_0 (mu={0:2.1f}, std={1:2.1f})'.format(zz[:,0].mean(),zz[:,0].std()))\n",
        "print('Latent z_1 (mu={0:2.1f}, std={1:2.1f})'.format(zz[:,1].mean(),zz[:,1].std()))\n",
        "\n",
        "plt.figure()\n",
        "plt.subplot(121)\n",
        "plt.hist(zz[:,0],bins=100);\n",
        "plt.subplot(122)\n",
        "plt.hist(zz[:,1],bins=100);\n",
        "plt.tight_layout()"
      ],
      "execution_count": 15,
      "outputs": [
        {
          "output_type": "stream",
          "name": "stdout",
          "text": [
            "Latent z_0 (mu=0.3, std=1.0)\n",
            "Latent z_1 (mu=-0.1, std=1.0)\n"
          ]
        },
        {
          "output_type": "display_data",
          "data": {
            "image/png": "[encoded data removed]",
            "text/plain": [
              "<Figure size 432x288 with 2 Axes>"
            ]
          },
          "metadata": {
            "needs_background": "light"
          }
        }
      ]
    },
    {
      "cell_type": "markdown",
      "metadata": {
        "id": "reo1NJoRBmRQ"
      },
      "source": [
        "## Evaluating an example"
      ]
    },
    {
      "cell_type": "code",
      "metadata": {
        "id": "ZD4CIK62wgEq",
        "colab": {
          "base_uri": "https://localhost:8080/",
          "height": 313
        },
        "outputId": "d48717d1-0acf-4c34-fa21-02d883dd3666"
      },
      "source": [
        "# Generate a test sample\n",
        "testvalue = [5.5,3.0]\n",
        "testobs = mymodel(xarray,testvalue[0],testvalue[1],noise)\n",
        "\n",
        "# We can also choose the number of samples\n",
        "nsamples = 5000\n",
        "\n",
        "time0 = time.time()\n",
        "samples_histo = model.sample(1,context=torch.tensor(testobs).repeat(nsamples,1)/x_std).data.cpu().numpy()\n",
        "print('Sampling the posterior:',time.time()-time0,'s')\n",
        "\n",
        "# Comparison between data and samples from the posterior\n",
        "samples_histo = samples_histo[:,0,:]*y_std\n",
        "\n",
        "plt.figure()\n",
        "plt.plot(xarray,testobs,'k.')\n",
        "for ii in range(100):\n",
        "    plt.plot(xarray,xarray*samples_histo[ii,0] + samples_histo[ii,1],'r.--',alpha=0.05)\n",
        "plt.xlabel('x axis'); plt.ylabel('y axis')"
      ],
      "execution_count": 16,
      "outputs": [
        {
          "output_type": "stream",
          "name": "stdout",
          "text": [
            "Sampling the posterior: 0.07199954986572266 s\n"
          ]
        },
        {
          "output_type": "execute_result",
          "data": {
            "text/plain": [
              "Text(0, 0.5, 'y axis')"
            ]
          },
          "metadata": {},
          "execution_count": 16
        },
        {
          "output_type": "display_data",
          "data": {
            "image/png": "[encoded data removed]",
            "text/plain": [
              "<Figure size 432x288 with 1 Axes>"
            ]
          },
          "metadata": {
            "needs_background": "light"
          }
        }
      ]
    },
    {
      "cell_type": "code",
      "metadata": {
        "id": "9lr9sSkIJc4t",
        "colab": {
          "base_uri": "https://localhost:8080/",
          "height": 399
        },
        "outputId": "389063b2-3565-4567-e0e2-ad6a0617e71f"
      },
      "source": [
        "# And show a corner plot of the solution\n",
        "figure = corner.corner(samples_histo,labels=['m','b'],truths=testvalue,show_titles=True,plot_datapoints=False, fill_contours=True, bins=50, smooth=1.0)"
      ],
      "execution_count": 17,
      "outputs": [
        {
          "output_type": "display_data",
          "data": {
            "image/png": "[encoded data removed]",
            "text/plain": [
              "<Figure size 396x396 with 4 Axes>"
            ]
          },
          "metadata": {
            "needs_background": "light"
          }
        }
      ]
    },
    {
      "cell_type": "markdown",
      "metadata": {
        "id": "CnRmfoioJhdj"
      },
      "source": [
        "## Comparison with MCMC"
      ]
    },
    {
      "cell_type": "code",
      "metadata": {
        "id": "pd23Y6lQobXz"
      },
      "source": [
        "# We need to define the likelihood and prior\n",
        "# based on our previous example:\n",
        "\n",
        "def log_likelihood(theta, x, y, yerr):\n",
        "    m, b, = theta\n",
        "    model = m * x + b\n",
        "    sigma2 = yerr ** 2\n",
        "    return -0.5 * np.sum((y - model) ** 2 / sigma2 + np.log(sigma2))\n",
        "\n",
        "def log_prior(theta):\n",
        "    m, b = theta\n",
        "    if -10.0 < m < 10.0 and -50.0 < b < 50.0:\n",
        "        return 0.0\n",
        "    return -np.inf\n",
        "\n",
        "def log_probability(theta, x, y, yerr):\n",
        "    lp = log_prior(theta)\n",
        "    if not np.isfinite(lp):\n",
        "        return -np.inf\n",
        "    return lp + log_likelihood(theta, x, y, yerr)"
      ],
      "execution_count": 18,
      "outputs": []
    },
    {
      "cell_type": "code",
      "metadata": {
        "id": "w_KNEISbojg8",
        "colab": {
          "base_uri": "https://localhost:8080/"
        },
        "outputId": "4fdf1d0e-9fcb-4d67-9fe3-6f7d0d484fd0"
      },
      "source": [
        "# We can now run an MCMC method to retrieve the posterior:\n",
        "x = np.copy(xarray)\n",
        "y = np.copy(testobs)\n",
        "yerr = np.ones(y.shape[0],dtype=np.float32)*noise\n",
        "nwalkers = 50\n",
        "ndim = 2\n",
        "pos_init = [+1.e+0*np.random.randn(ndim) for i in range(nwalkers)]\n",
        "sampler = emcee.EnsembleSampler(nwalkers, ndim, log_probability, args=(x, y, yerr))\n",
        "sampler.run_mcmc(pos_init, 5000, progress=True);"
      ],
      "execution_count": 19,
      "outputs": [
        {
          "output_type": "stream",
          "name": "stderr",
          "text": [
            "100%|██████████| 5000/5000 [00:09<00:00, 507.05it/s]\n"
          ]
        }
      ]
    },
    {
      "cell_type": "code",
      "metadata": {
        "id": "kqwEl5wdsMPP",
        "colab": {
          "base_uri": "https://localhost:8080/",
          "height": 399
        },
        "outputId": "5cb4254d-f5c5-4f69-b1f4-5303a6e0fca0"
      },
      "source": [
        "# And show a corner plot of the solution\n",
        "samples_emcee = sampler.flatchain[10000:,:]\n",
        "figure = corner.corner(samples_emcee,labels=['m','b'],truths=testvalue,show_titles=True,plot_datapoints=False, fill_contours=True, bins=50, smooth=1.0, color='C1')"
      ],
      "execution_count": 20,
      "outputs": [
        {
          "output_type": "display_data",
          "data": {
            "image/png": "[encoded data removed]",
            "text/plain": [
              "<Figure size 396x396 with 4 Axes>"
            ]
          },
          "metadata": {
            "needs_background": "light"
          }
        }
      ]
    },
    {
      "cell_type": "code",
      "metadata": {
        "id": "WefQgsr3HYkV",
        "colab": {
          "base_uri": "https://localhost:8080/",
          "height": 379
        },
        "outputId": "a422f76d-fd74-4c42-f93b-19468bf9e973"
      },
      "source": [
        "# Now we can compare the result of the normalizing flow with the one obtained with the MCMC\n",
        "\n",
        "# Orange => MCMC, gray => NN\n",
        "figure = corner.corner(samples_histo,labels=['m','b'], weights=np.ones(samples_histo.shape[0])*samples_emcee.shape[0]/samples_histo.shape[0], color='gray', plot_datapoints=False, fill_contours=True, bins=50, smooth=1.0)\n",
        "_ = corner.corner(sampler.flatchain[10000:,:],labels=['m','b'],truths=testvalue, color='C1', plot_datapoints=False, fill_contours=True, bins=50, smooth=1.0,fig=figure)"
      ],
      "execution_count": 21,
      "outputs": [
        {
          "output_type": "display_data",
          "data": {
            "image/png": "[encoded data removed]",
            "text/plain": [
              "<Figure size 396x396 with 4 Axes>"
            ]
          },
          "metadata": {
            "needs_background": "light"
          }
        }
      ]
    },
    {
      "cell_type": "code",
      "metadata": {
        "id": "X90aQG8vfTpQ"
      },
      "source": [
        ""
      ],
      "execution_count": 21,
      "outputs": []
    }
  ]
}